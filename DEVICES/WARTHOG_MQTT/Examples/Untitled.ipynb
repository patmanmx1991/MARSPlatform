{
 "cells": [
  {
   "cell_type": "code",
   "execution_count": 33,
   "id": "d122c7a9",
   "metadata": {},
   "outputs": [
    {
     "name": "stdout",
     "output_type": "stream",
     "text": [
      "------------- ORION STATE ----------------- \n",
      "warthog                                  DataStream\n",
      "------------------------------------------- \n",
      "{'id': 'warthog', 'type': 'DataStream', 'battery': {'type': 'Number', 'value': 12.1, 'metadata': {}}, 'command_list': {'type': 'String', 'value': '[]', 'metadata': {}}, 'location': {'type': 'geo:json', 'value': {'type': 'Point', 'coordinates': [0, 0]}, 'metadata': {}}, 'start_time': {'type': 'Integer', 'value': 1664557639, 'metadata': {}}, 'timestamp': {'type': 'Integer', 'value': 1664740933, 'metadata': {}}}\n",
      "-> Orion Entity :  warthog  :  DataStream\n",
      "GV battery\n",
      "--> battery 12.1 Number\n",
      "GV command_list\n",
      "--> command_list [] String\n",
      "GV location\n",
      "--> location {'type': 'Point', 'coordinates': [0, 0]} geo:json\n",
      "GV start_time\n",
      "--> start_time 1664557639 Integer\n",
      "GV timestamp\n",
      "--> timestamp 1664740933 Integer\n"
     ]
    }
   ],
   "source": [
    "from orionapi import *\n",
    "\n",
    "orion = orion_handler(\"http://35.177.218.103\",\"1026\")\n",
    "orion.PrintAllEntities()\n",
    "\n",
    "ent = orion.GetEntity(\"warthog\")\n",
    "ent.Print()\n"
   ]
  },
  {
   "cell_type": "code",
   "execution_count": null,
   "id": "02c1f11a",
   "metadata": {},
   "outputs": [],
   "source": []
  },
  {
   "cell_type": "code",
   "execution_count": null,
   "id": "001db7ae",
   "metadata": {},
   "outputs": [],
   "source": []
  }
 ],
 "metadata": {
  "kernelspec": {
   "display_name": "Python 3 (ipykernel)",
   "language": "python",
   "name": "python3"
  },
  "language_info": {
   "codemirror_mode": {
    "name": "ipython",
    "version": 3
   },
   "file_extension": ".py",
   "mimetype": "text/x-python",
   "name": "python",
   "nbconvert_exporter": "python",
   "pygments_lexer": "ipython3",
   "version": "3.10.6"
  }
 },
 "nbformat": 4,
 "nbformat_minor": 5
}
